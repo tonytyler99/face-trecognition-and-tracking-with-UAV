{
 "cells": [
  {
   "cell_type": "code",
   "execution_count": 1,
   "id": "95320c83-940a-4de7-86c5-377e4d6da260",
   "metadata": {},
   "outputs": [],
   "source": [
    "import djitellopy"
   ]
  },
  {
   "cell_type": "code",
   "execution_count": 3,
   "id": "4ed7cad7-a346-4b26-b4a7-ec9344372b53",
   "metadata": {
    "collapsed": true,
    "jupyter": {
     "outputs_hidden": true
    },
    "tags": []
   },
   "outputs": [
    {
     "name": "stderr",
     "output_type": "stream",
     "text": [
      "[INFO] tello.py - 122 - Tello instance was initialized. Host: '192.168.10.1'. Port: '8889'.\n",
      "[INFO] tello.py - 437 - Send command: 'command'\n",
      "[WARNING] tello.py - 447 - Aborting command 'command'. Did not receive a response after 7 seconds\n",
      "[INFO] tello.py - 437 - Send command: 'command'\n",
      "[WARNING] tello.py - 447 - Aborting command 'command'. Did not receive a response after 7 seconds\n",
      "[INFO] tello.py - 437 - Send command: 'command'\n",
      "[WARNING] tello.py - 447 - Aborting command 'command'. Did not receive a response after 7 seconds\n"
     ]
    },
    {
     "ename": "Exception",
     "evalue": "Command 'command' was unsuccessful for 4 tries. Latest response:\t'Aborting command 'command'. Did not receive a response after 7 seconds'",
     "output_type": "error",
     "traceback": [
      "\u001b[1;31m---------------------------------------------------------------------------\u001b[0m",
      "\u001b[1;31mException\u001b[0m                                 Traceback (most recent call last)",
      "Input \u001b[1;32mIn [3]\u001b[0m, in \u001b[0;36m<cell line: 12>\u001b[1;34m()\u001b[0m\n\u001b[0;32m     10\u001b[0m pError \u001b[38;5;241m=\u001b[39m \u001b[38;5;241m0\u001b[39m\n\u001b[0;32m     11\u001b[0m drone \u001b[38;5;241m=\u001b[39m Tello()\n\u001b[1;32m---> 12\u001b[0m \u001b[43mdrone\u001b[49m\u001b[38;5;241;43m.\u001b[39;49m\u001b[43mconnect\u001b[49m\u001b[43m(\u001b[49m\u001b[43m)\u001b[49m\n\u001b[0;32m     14\u001b[0m \u001b[38;5;28mprint\u001b[39m(drone\u001b[38;5;241m.\u001b[39mget_battery())\n\u001b[0;32m     15\u001b[0m battery \u001b[38;5;241m=\u001b[39m (drone\u001b[38;5;241m.\u001b[39mget_battery())  \u001b[38;5;66;03m# We want to learn battery from drone\u001b[39;00m\n",
      "File \u001b[1;32mC:\\ProgramData\\Anaconda3\\envs\\env_Sid\\lib\\site-packages\\djitellopy\\enforce_types.py:54\u001b[0m, in \u001b[0;36menforce_types.<locals>.decorate.<locals>.wrapper\u001b[1;34m(*args, **kwargs)\u001b[0m\n\u001b[0;32m     51\u001b[0m \u001b[38;5;129m@wraps\u001b[39m(func)\n\u001b[0;32m     52\u001b[0m \u001b[38;5;28;01mdef\u001b[39;00m \u001b[38;5;21mwrapper\u001b[39m(\u001b[38;5;241m*\u001b[39margs, \u001b[38;5;241m*\u001b[39m\u001b[38;5;241m*\u001b[39mkwargs):\n\u001b[0;32m     53\u001b[0m     check_types(spec, \u001b[38;5;241m*\u001b[39margs, \u001b[38;5;241m*\u001b[39m\u001b[38;5;241m*\u001b[39mkwargs)\n\u001b[1;32m---> 54\u001b[0m     \u001b[38;5;28;01mreturn\u001b[39;00m func(\u001b[38;5;241m*\u001b[39margs, \u001b[38;5;241m*\u001b[39m\u001b[38;5;241m*\u001b[39mkwargs)\n",
      "File \u001b[1;32mC:\\ProgramData\\Anaconda3\\envs\\env_Sid\\lib\\site-packages\\djitellopy\\tello.py:534\u001b[0m, in \u001b[0;36mTello.connect\u001b[1;34m(self, wait_for_state)\u001b[0m\n\u001b[0;32m    531\u001b[0m \u001b[38;5;28;01mdef\u001b[39;00m \u001b[38;5;21mconnect\u001b[39m(\u001b[38;5;28mself\u001b[39m, wait_for_state\u001b[38;5;241m=\u001b[39m\u001b[38;5;28;01mTrue\u001b[39;00m):\n\u001b[0;32m    532\u001b[0m     \u001b[38;5;124;03m\"\"\"Enter SDK mode. Call this before any of the control functions.\u001b[39;00m\n\u001b[0;32m    533\u001b[0m \u001b[38;5;124;03m    \"\"\"\u001b[39;00m\n\u001b[1;32m--> 534\u001b[0m     \u001b[38;5;28;43mself\u001b[39;49m\u001b[38;5;241;43m.\u001b[39;49m\u001b[43msend_control_command\u001b[49m\u001b[43m(\u001b[49m\u001b[38;5;124;43m\"\u001b[39;49m\u001b[38;5;124;43mcommand\u001b[39;49m\u001b[38;5;124;43m\"\u001b[39;49m\u001b[43m)\u001b[49m\n\u001b[0;32m    536\u001b[0m     \u001b[38;5;28;01mif\u001b[39;00m wait_for_state:\n\u001b[0;32m    537\u001b[0m         REPS \u001b[38;5;241m=\u001b[39m \u001b[38;5;241m20\u001b[39m\n",
      "File \u001b[1;32mC:\\ProgramData\\Anaconda3\\envs\\env_Sid\\lib\\site-packages\\djitellopy\\enforce_types.py:54\u001b[0m, in \u001b[0;36menforce_types.<locals>.decorate.<locals>.wrapper\u001b[1;34m(*args, **kwargs)\u001b[0m\n\u001b[0;32m     51\u001b[0m \u001b[38;5;129m@wraps\u001b[39m(func)\n\u001b[0;32m     52\u001b[0m \u001b[38;5;28;01mdef\u001b[39;00m \u001b[38;5;21mwrapper\u001b[39m(\u001b[38;5;241m*\u001b[39margs, \u001b[38;5;241m*\u001b[39m\u001b[38;5;241m*\u001b[39mkwargs):\n\u001b[0;32m     53\u001b[0m     check_types(spec, \u001b[38;5;241m*\u001b[39margs, \u001b[38;5;241m*\u001b[39m\u001b[38;5;241m*\u001b[39mkwargs)\n\u001b[1;32m---> 54\u001b[0m     \u001b[38;5;28;01mreturn\u001b[39;00m func(\u001b[38;5;241m*\u001b[39margs, \u001b[38;5;241m*\u001b[39m\u001b[38;5;241m*\u001b[39mkwargs)\n",
      "File \u001b[1;32mC:\\ProgramData\\Anaconda3\\envs\\env_Sid\\lib\\site-packages\\djitellopy\\tello.py:486\u001b[0m, in \u001b[0;36mTello.send_control_command\u001b[1;34m(self, command, timeout)\u001b[0m\n\u001b[0;32m    482\u001b[0m         \u001b[38;5;28;01mreturn\u001b[39;00m \u001b[38;5;28;01mTrue\u001b[39;00m\n\u001b[0;32m    484\u001b[0m     \u001b[38;5;28mself\u001b[39m\u001b[38;5;241m.\u001b[39mLOGGER\u001b[38;5;241m.\u001b[39mdebug(\u001b[38;5;124m\"\u001b[39m\u001b[38;5;124mCommand attempt #\u001b[39m\u001b[38;5;132;01m{}\u001b[39;00m\u001b[38;5;124m failed for command: \u001b[39m\u001b[38;5;124m'\u001b[39m\u001b[38;5;132;01m{}\u001b[39;00m\u001b[38;5;124m'\u001b[39m\u001b[38;5;124m\"\u001b[39m\u001b[38;5;241m.\u001b[39mformat(i, command))\n\u001b[1;32m--> 486\u001b[0m \u001b[38;5;28;43mself\u001b[39;49m\u001b[38;5;241;43m.\u001b[39;49m\u001b[43mraise_result_error\u001b[49m\u001b[43m(\u001b[49m\u001b[43mcommand\u001b[49m\u001b[43m,\u001b[49m\u001b[43m \u001b[49m\u001b[43mresponse\u001b[49m\u001b[43m)\u001b[49m\n\u001b[0;32m    487\u001b[0m \u001b[38;5;28;01mreturn\u001b[39;00m \u001b[38;5;28;01mFalse\u001b[39;00m\n",
      "File \u001b[1;32mC:\\ProgramData\\Anaconda3\\envs\\env_Sid\\lib\\site-packages\\djitellopy\\enforce_types.py:54\u001b[0m, in \u001b[0;36menforce_types.<locals>.decorate.<locals>.wrapper\u001b[1;34m(*args, **kwargs)\u001b[0m\n\u001b[0;32m     51\u001b[0m \u001b[38;5;129m@wraps\u001b[39m(func)\n\u001b[0;32m     52\u001b[0m \u001b[38;5;28;01mdef\u001b[39;00m \u001b[38;5;21mwrapper\u001b[39m(\u001b[38;5;241m*\u001b[39margs, \u001b[38;5;241m*\u001b[39m\u001b[38;5;241m*\u001b[39mkwargs):\n\u001b[0;32m     53\u001b[0m     check_types(spec, \u001b[38;5;241m*\u001b[39margs, \u001b[38;5;241m*\u001b[39m\u001b[38;5;241m*\u001b[39mkwargs)\n\u001b[1;32m---> 54\u001b[0m     \u001b[38;5;28;01mreturn\u001b[39;00m func(\u001b[38;5;241m*\u001b[39margs, \u001b[38;5;241m*\u001b[39m\u001b[38;5;241m*\u001b[39mkwargs)\n",
      "File \u001b[1;32mC:\\ProgramData\\Anaconda3\\envs\\env_Sid\\lib\\site-packages\\djitellopy\\tello.py:528\u001b[0m, in \u001b[0;36mTello.raise_result_error\u001b[1;34m(self, command, response)\u001b[0m\n\u001b[0;32m    524\u001b[0m \u001b[38;5;124;03m\"\"\"Used to reaise an error after an unsuccessful command\u001b[39;00m\n\u001b[0;32m    525\u001b[0m \u001b[38;5;124;03mInternal method, you normally wouldn't call this yourself.\u001b[39;00m\n\u001b[0;32m    526\u001b[0m \u001b[38;5;124;03m\"\"\"\u001b[39;00m\n\u001b[0;32m    527\u001b[0m tries \u001b[38;5;241m=\u001b[39m \u001b[38;5;241m1\u001b[39m \u001b[38;5;241m+\u001b[39m \u001b[38;5;28mself\u001b[39m\u001b[38;5;241m.\u001b[39mretry_count\n\u001b[1;32m--> 528\u001b[0m \u001b[38;5;28;01mraise\u001b[39;00m \u001b[38;5;167;01mException\u001b[39;00m(\u001b[38;5;124m\"\u001b[39m\u001b[38;5;124mCommand \u001b[39m\u001b[38;5;124m'\u001b[39m\u001b[38;5;132;01m{}\u001b[39;00m\u001b[38;5;124m'\u001b[39m\u001b[38;5;124m was unsuccessful for \u001b[39m\u001b[38;5;132;01m{}\u001b[39;00m\u001b[38;5;124m tries. Latest response:\u001b[39m\u001b[38;5;130;01m\\t\u001b[39;00m\u001b[38;5;124m'\u001b[39m\u001b[38;5;132;01m{}\u001b[39;00m\u001b[38;5;124m'\u001b[39m\u001b[38;5;124m\"\u001b[39m\n\u001b[0;32m    529\u001b[0m                 \u001b[38;5;241m.\u001b[39mformat(command, tries, response))\n",
      "\u001b[1;31mException\u001b[0m: Command 'command' was unsuccessful for 4 tries. Latest response:\t'Aborting command 'command'. Did not receive a response after 7 seconds'"
     ]
    }
   ],
   "source": [
    "import cv2\n",
    "import dlib\n",
    "from djitellopy import Tello\n",
    "import numpy as np\n",
    "import time\n",
    "import face_recognition\n",
    "width, height = 360, 240\n",
    "Forward_Backward_Range = [3000, 5000]\n",
    "pid = [0.4,0.4,0]\n",
    "pError = 0\n",
    "drone = Tello()\n",
    "drone.connect()\n",
    "\n",
    "print(drone.get_battery())\n",
    "battery = (drone.get_battery())  # We want to learn battery from drone\n",
    "if battery > 50:\n",
    "    drone.streamon()  # Turn on video streaming\n",
    "    drone.takeoff()\n",
    "    drone.move_up(30)\n",
    "else:\n",
    "    print(\"please charge it\")\n"
   ]
  },
  {
   "cell_type": "code",
   "execution_count": 4,
   "id": "a502563a-8a67-4d3a-bcb6-35ca26af9d29",
   "metadata": {},
   "outputs": [],
   "source": [
    "def Face_Detection(img):\n",
    "    obama_image = face_recognition.load_image_file(\"obama.jpg\")\n",
    "    obama_face_encoding = face_recognition.face_encodings(obama_image)[0]\n",
    "\n",
    "# Load a second sample picture and learn how to recognize it.\n",
    "    biden_image = face_recognition.load_image_file(\"biden.jpg\")\n",
    "    biden_face_encoding = face_recognition.face_encodings(biden_image)[0]\n",
    "\n",
    "# Create arrays of known face encodings and their names\n",
    "    known_face_encodings = [\n",
    "        obama_face_encoding,\n",
    "        biden_face_encoding\n",
    "    ]\n",
    "    known_face_names = [\n",
    "        \"Barack Obama\",\n",
    "        \"Joe Biden\"\n",
    "    ]\n",
    "\n",
    "    rgb_frame = frame[:, :, ::-1]\n",
    "\n",
    "    # Find all the faces and face enqcodings in the frame of video\n",
    "    face_locations = face_recognition.face_locations(rgb_frame)\n",
    "    face_encodings = face_recognition.face_encodings(rgb_frame, face_locations)\n",
    "    for (top, right, bottom, left), face_encoding in zip(face_locations, face_encodings):\n",
    "        # See if the face is a match for the known face(s)\n",
    "        matches = face_recognition.compare_faces(known_face_encodings, face_encoding)\n",
    "\n",
    "        name = \"Unknown\"\n",
    "\n",
    "        # If a match was found in known_face_encodings, just use the first one.\n",
    "        # if True in matches:\n",
    "        #     first_match_index = matches.index(True)\n",
    "        #     name = known_face_names[first_match_index]\n",
    "\n",
    "        # Or instead, use the known face with the smallest distance to the new face\n",
    "        face_distances = face_recognition.face_distance(known_face_encodings, face_encoding)\n",
    "        best_match_index = np.argmin(face_distances)\n",
    "        if matches[best_match_index]:\n",
    "            name = known_face_names[best_match_index]\n",
    "        \n",
    "         cv2.rectangle(frame, (left, top), (right, bottom), (0, 0, 255), 2)\n",
    "\n",
    "        # Draw a label with a name below the face\n",
    "        cv2.rectangle(frame, (left, bottom - 35), (right, bottom), (0, 0, 255), cv2.FILLED)\n",
    "        font = cv2.FONT_HERSHEY_DUPLEX\n",
    "        cv2.putText(frame, name, (left + 6, bottom - 6), font, 1.0, (255, 255, 255), 1)"
   ]
  },
  {
   "cell_type": "code",
   "execution_count": 6,
   "id": "32f2a76f-35e3-403a-9c11-47d4144ba6f6",
   "metadata": {
    "collapsed": true,
    "jupyter": {
     "outputs_hidden": true
    },
    "tags": []
   },
   "outputs": [
    {
     "ename": "NameError",
     "evalue": "name 'frame' is not defined",
     "output_type": "error",
     "traceback": [
      "\u001b[1;31m---------------------------------------------------------------------------\u001b[0m",
      "\u001b[1;31mNameError\u001b[0m                                 Traceback (most recent call last)",
      "Input \u001b[1;32mIn [6]\u001b[0m, in \u001b[0;36m<cell line: 1>\u001b[1;34m()\u001b[0m\n\u001b[1;32m----> 1\u001b[0m rgb_frame \u001b[38;5;241m=\u001b[39m \u001b[43mframe\u001b[49m[:, :, ::\u001b[38;5;241m-\u001b[39m\u001b[38;5;241m1\u001b[39m]\n\u001b[0;32m      3\u001b[0m     \u001b[38;5;66;03m# Find all the faces and face enqcodings in the frame of video\u001b[39;00m\n\u001b[0;32m      4\u001b[0m face_locations \u001b[38;5;241m=\u001b[39m face_recognition\u001b[38;5;241m.\u001b[39mface_locations(rgb_frame)\n",
      "\u001b[1;31mNameError\u001b[0m: name 'frame' is not defined"
     ]
    }
   ],
   "source": [
    "def trackFace(faceInfo,w,pid,pError):\n",
    "    area = faceInfo[1]\n",
    "    x, y = faceInfo[0]\n",
    "    fb = 0\n",
    "    error_x = x - w // 2  # w= width; finding center of face\n",
    "    speed_x = pid[0] * error_x + pid[1] * (error_x - pError)   # determining the yaw\n",
    "    speed_x = int(np.clip(speed_x, -100, 100))\n",
    "​\n",
    "​\n",
    "    if area > Forward_Backward_Range[0] and area < Forward_Backward_Range[1]:\n",
    "        fb = 0  #Speed_x değerinde yaw haraketi yaparak yüzü arıyor.\n",
    "​\n",
    "    elif area > Forward_Backward_Range[1]:\n",
    "        fb = -25\n",
    "        #Yüz yakınlaştıkça geri gidiyor\n",
    "​\n",
    "    elif area < Forward_Backward_Range[0] and area != 0:  # If the drone is too far get closer\n",
    "        fb = 25\n",
    "        # Yüz uzaklaştıkça ileri gidiyor\n",
    "​\n",
    "    elif area ==0:\n",
    "       drone.rotate_clockwise(20)\n",
    "       time.sleep(0.8)\n",
    "​\n",
    "​\n",
    "​\n",
    "    if x == 0:\n",
    "        speed_x = 0\n",
    "        error_x = 0\n",
    "    drone.send_rc_control(0, fb, 0, speed_x)\n",
    "    print(speed_x, fb)\n",
    "    return error_x\n"
   ]
  },
  {
   "cell_type": "code",
   "execution_count": null,
   "id": "b0e2cb66-6788-4214-b755-2c33c648ef94",
   "metadata": {},
   "outputs": [],
   "source": [
    "while True:\n",
    "    frame = drone.get_frame_read().frame\n",
    "    img = cv2.resize(frame, (width, height))\n",
    "\n",
    "\n",
    "    img,info = Face_Detection(img)\n",
    "    pError = trackFace(info,width,pid,pError)\n",
    "\n",
    "    cv2.imshow(\"Drone Video:\", img)\n",
    "    if cv2.waitKey(1) & 0xFF == ord(\"q\"):\n",
    "        drone.land()\n",
    "        break\n",
    "\n",
    "\n",
    "cv2.destroyAllWindows()"
   ]
  }
 ],
 "metadata": {
  "kernelspec": {
   "display_name": "Python 3 (ipykernel)",
   "language": "python",
   "name": "python3"
  },
  "language_info": {
   "codemirror_mode": {
    "name": "ipython",
    "version": 3
   },
   "file_extension": ".py",
   "mimetype": "text/x-python",
   "name": "python",
   "nbconvert_exporter": "python",
   "pygments_lexer": "ipython3",
   "version": "3.10.4"
  }
 },
 "nbformat": 4,
 "nbformat_minor": 5
}
